{
  "cells": [
    {
      "cell_type": "code",
      "execution_count": 28,
      "metadata": {
        "colab": {
          "base_uri": "https://localhost:8080/",
          "height": 71
        },
        "colab_type": "code",
        "id": "rUqgKAwtWg2T",
        "outputId": "64d28a41-5de0-41e6-d993-e59f38437470"
      },
      "outputs": [],
      "source": [
        "#Importing packages\n",
        "import numpy as np\n",
        "import matplotlib.pyplot as plt\n",
        "import pandas as pd\n",
        "import matplotlib.pyplot as plt # standard graphics\n",
        "import seaborn as sns # fancier graphics\n",
        "from sklearn import metrics\n",
        "from sklearn.preprocessing import StandardScaler\n",
        "from sklearn.model_selection import train_test_split\n",
        "import warnings \n",
        "warnings.filterwarnings('ignore')"
      ]
    },
    {
      "cell_type": "code",
      "execution_count": 29,
      "metadata": {
        "colab": {},
        "colab_type": "code",
        "id": "COW3eWXmXTE0"
      },
      "outputs": [],
      "source": [
        "#reading file\n",
        "df = pd.read_csv(\"diabetes.csv\")"
      ]
    },
    {
      "cell_type": "code",
      "execution_count": 30,
      "metadata": {},
      "outputs": [
        {
          "data": {
            "text/plain": [
              "Index(['Pregnancies', 'Glucose', 'BloodPressure', 'SkinThickness', 'Insulin',\n",
              "       'BMI', 'DiabetesPedigreeFunction', 'Age', 'Outcome'],\n",
              "      dtype='object')"
            ]
          },
          "execution_count": 30,
          "metadata": {},
          "output_type": "execute_result"
        }
      ],
      "source": [
        "df.columns"
      ]
    },
    {
      "cell_type": "code",
      "execution_count": 31,
      "metadata": {},
      "outputs": [],
      "source": [
        "def outlier(df,col):\n",
        "    fqr = df[col].quantile(0.25)\n",
        "    tqr = df[col].quantile(0.75)\n",
        "    iqr = tqr-fqr\n",
        "    df_out = df[(df[col]>1.5*iqr +tqr)| (df[col]<fqr -1.5*iqr)]\n",
        "    #silmek ucun code\n",
        "    # idx = df_out[col].index().tolist()\n",
        "    # df.drop(idx, axis = 0, inplace = True)\n",
        "    return df_out"
      ]
    },
    {
      "cell_type": "code",
      "execution_count": 32,
      "metadata": {},
      "outputs": [],
      "source": [
        "def scale_check(df):\n",
        "    l = df.describe()\n",
        "    b = l[l.index=='mean'].values\n",
        "    return b.max()-b.min()>10"
      ]
    },
    {
      "cell_type": "code",
      "execution_count": 33,
      "metadata": {},
      "outputs": [],
      "source": [
        "def check_df(df):\n",
        "    out = []\n",
        "\n",
        "    for col in df.columns:\n",
        "        if df.apply(lambda x: x.isnull().sum()).sum():\n",
        "            print(f\"you got the problem at column {col}\")\n",
        "        #sparsity check\n",
        "        assert pd.api.types.is_sparse(df[col]) == False\n",
        "        df_out = outlier(df, col)\n",
        "        #outlier detection\n",
        "        if len(df_out)>0:\n",
        "            print(f\"you got outlier at column {col}\")\n",
        "            out.append(col)\n",
        "    #scalability check\n",
        "    if scale_check(df) == True:\n",
        "        print(\"There is scalability issue\")\n",
        "    #balance check\n",
        "    a = df[\"Outcome\"].value_counts()\n",
        "    if a.max()-a.min()>30:\n",
        "        print(\"You got balance problem\")\n",
        "    return out"
      ]
    },
    {
      "cell_type": "code",
      "execution_count": 34,
      "metadata": {},
      "outputs": [
        {
          "name": "stdout",
          "output_type": "stream",
          "text": [
            "you got outlier at column Pregnancies\n",
            "you got outlier at column Glucose\n",
            "you got outlier at column BloodPressure\n",
            "you got outlier at column SkinThickness\n",
            "you got outlier at column Insulin\n",
            "you got outlier at column BMI\n",
            "you got outlier at column DiabetesPedigreeFunction\n",
            "you got outlier at column Age\n",
            "There is scalability issue\n",
            "You got balance problem\n"
          ]
        }
      ],
      "source": [
        "out = check_df(df)"
      ]
    },
    {
      "cell_type": "code",
      "execution_count": 35,
      "metadata": {},
      "outputs": [
        {
          "data": {
            "text/plain": [
              "<AxesSubplot: title={'center': 'Error Rate K Value'}, xlabel='K Value', ylabel='Mean Error'>"
            ]
          },
          "execution_count": 35,
          "metadata": {},
          "output_type": "execute_result"
        }
      ],
      "source": [
        "df.boxplot(out, rot = 45)"
      ]
    },
    {
      "cell_type": "code",
      "execution_count": 36,
      "metadata": {},
      "outputs": [
        {
          "data": {
            "text/plain": [
              "4      2.288\n",
              "12     1.441\n",
              "39     1.390\n",
              "45     1.893\n",
              "58     1.781\n",
              "100    1.222\n",
              "147    1.400\n",
              "187    1.321\n",
              "218    1.224\n",
              "228    2.329\n",
              "243    1.318\n",
              "245    1.213\n",
              "259    1.353\n",
              "292    1.224\n",
              "308    1.391\n",
              "330    1.476\n",
              "370    2.137\n",
              "371    1.731\n",
              "383    1.268\n",
              "395    1.600\n",
              "445    2.420\n",
              "534    1.251\n",
              "593    1.699\n",
              "606    1.258\n",
              "618    1.282\n",
              "621    1.698\n",
              "622    1.461\n",
              "659    1.292\n",
              "661    1.394\n",
              "Name: DiabetesPedigreeFunction, dtype: float64"
            ]
          },
          "execution_count": 36,
          "metadata": {},
          "output_type": "execute_result"
        }
      ],
      "source": [
        "out_age = outlier(df, \"DiabetesPedigreeFunction\")\n",
        "out_age[\"DiabetesPedigreeFunction\"]"
      ]
    },
    {
      "cell_type": "code",
      "execution_count": 37,
      "metadata": {},
      "outputs": [],
      "source": [
        "df_out = outlier(df, \"BMI\")"
      ]
    },
    {
      "cell_type": "code",
      "execution_count": 38,
      "metadata": {},
      "outputs": [
        {
          "data": {
            "text/plain": [
              "<AxesSubplot: title={'center': 'Error Rate K Value'}, xlabel='K Value', ylabel='Mean Error'>"
            ]
          },
          "execution_count": 38,
          "metadata": {},
          "output_type": "execute_result"
        }
      ],
      "source": [
        "sns.boxplot(df['BMI'])"
      ]
    },
    {
      "cell_type": "code",
      "execution_count": 39,
      "metadata": {},
      "outputs": [
        {
          "data": {
            "text/plain": [
              "7.8841603203754405"
            ]
          },
          "execution_count": 39,
          "metadata": {},
          "output_type": "execute_result"
        }
      ],
      "source": [
        "df['BMI'].std()"
      ]
    },
    {
      "cell_type": "code",
      "execution_count": 40,
      "metadata": {},
      "outputs": [],
      "source": [
        "l = df[df[\"BMI\"]>50].index.tolist() + df[df[\"BMI\"]<5].index.tolist()\n",
        "df_out = outlier(df, \"BMI\")"
      ]
    },
    {
      "cell_type": "code",
      "execution_count": 41,
      "metadata": {},
      "outputs": [
        {
          "data": {
            "text/plain": [
              "[120,\n",
              " 125,\n",
              " 177,\n",
              " 193,\n",
              " 247,\n",
              " 303,\n",
              " 445,\n",
              " 673,\n",
              " 9,\n",
              " 49,\n",
              " 60,\n",
              " 81,\n",
              " 145,\n",
              " 371,\n",
              " 426,\n",
              " 494,\n",
              " 522,\n",
              " 684,\n",
              " 706]"
            ]
          },
          "execution_count": 41,
          "metadata": {},
          "output_type": "execute_result"
        }
      ],
      "source": [
        "l"
      ]
    },
    {
      "cell_type": "code",
      "execution_count": 42,
      "metadata": {},
      "outputs": [
        {
          "data": {
            "text/plain": [
              "Index([  9,  49,  60,  81, 120, 125, 145, 177, 193, 247, 303, 371, 426, 445,\n",
              "       494, 522, 673, 684, 706],\n",
              "      dtype='int64')"
            ]
          },
          "execution_count": 42,
          "metadata": {},
          "output_type": "execute_result"
        }
      ],
      "source": [
        "df_out.index"
      ]
    },
    {
      "cell_type": "code",
      "execution_count": 43,
      "metadata": {
        "colab": {
          "base_uri": "https://localhost:8080/",
          "height": 204
        },
        "colab_type": "code",
        "id": "f-XgRQIuXZzh",
        "outputId": "048c1347-914a-434f-a7ca-0ba6b3242cdc"
      },
      "outputs": [
        {
          "data": {
            "text/html": [
              "<div>\n",
              "<style scoped>\n",
              "    .dataframe tbody tr th:only-of-type {\n",
              "        vertical-align: middle;\n",
              "    }\n",
              "\n",
              "    .dataframe tbody tr th {\n",
              "        vertical-align: top;\n",
              "    }\n",
              "\n",
              "    .dataframe thead th {\n",
              "        text-align: right;\n",
              "    }\n",
              "</style>\n",
              "<table border=\"1\" class=\"dataframe\">\n",
              "  <thead>\n",
              "    <tr style=\"text-align: right;\">\n",
              "      <th></th>\n",
              "      <th>Pregnancies</th>\n",
              "      <th>Glucose</th>\n",
              "      <th>BloodPressure</th>\n",
              "      <th>SkinThickness</th>\n",
              "      <th>Insulin</th>\n",
              "      <th>BMI</th>\n",
              "      <th>DiabetesPedigreeFunction</th>\n",
              "      <th>Age</th>\n",
              "      <th>Outcome</th>\n",
              "    </tr>\n",
              "  </thead>\n",
              "  <tbody>\n",
              "    <tr>\n",
              "      <th>0</th>\n",
              "      <td>6</td>\n",
              "      <td>148</td>\n",
              "      <td>72</td>\n",
              "      <td>35</td>\n",
              "      <td>0</td>\n",
              "      <td>33.6</td>\n",
              "      <td>0.627</td>\n",
              "      <td>50</td>\n",
              "      <td>1</td>\n",
              "    </tr>\n",
              "    <tr>\n",
              "      <th>1</th>\n",
              "      <td>1</td>\n",
              "      <td>85</td>\n",
              "      <td>66</td>\n",
              "      <td>29</td>\n",
              "      <td>0</td>\n",
              "      <td>26.6</td>\n",
              "      <td>0.351</td>\n",
              "      <td>31</td>\n",
              "      <td>0</td>\n",
              "    </tr>\n",
              "    <tr>\n",
              "      <th>2</th>\n",
              "      <td>8</td>\n",
              "      <td>183</td>\n",
              "      <td>64</td>\n",
              "      <td>0</td>\n",
              "      <td>0</td>\n",
              "      <td>23.3</td>\n",
              "      <td>0.672</td>\n",
              "      <td>32</td>\n",
              "      <td>1</td>\n",
              "    </tr>\n",
              "    <tr>\n",
              "      <th>3</th>\n",
              "      <td>1</td>\n",
              "      <td>89</td>\n",
              "      <td>66</td>\n",
              "      <td>23</td>\n",
              "      <td>94</td>\n",
              "      <td>28.1</td>\n",
              "      <td>0.167</td>\n",
              "      <td>21</td>\n",
              "      <td>0</td>\n",
              "    </tr>\n",
              "    <tr>\n",
              "      <th>4</th>\n",
              "      <td>0</td>\n",
              "      <td>137</td>\n",
              "      <td>40</td>\n",
              "      <td>35</td>\n",
              "      <td>168</td>\n",
              "      <td>43.1</td>\n",
              "      <td>2.288</td>\n",
              "      <td>33</td>\n",
              "      <td>1</td>\n",
              "    </tr>\n",
              "  </tbody>\n",
              "</table>\n",
              "</div>"
            ],
            "text/plain": [
              "   Pregnancies  Glucose  BloodPressure  SkinThickness  Insulin   BMI   \n",
              "0            6      148             72             35        0  33.6  \\\n",
              "1            1       85             66             29        0  26.6   \n",
              "2            8      183             64              0        0  23.3   \n",
              "3            1       89             66             23       94  28.1   \n",
              "4            0      137             40             35      168  43.1   \n",
              "\n",
              "   DiabetesPedigreeFunction  Age  Outcome  \n",
              "0                     0.627   50        1  \n",
              "1                     0.351   31        0  \n",
              "2                     0.672   32        1  \n",
              "3                     0.167   21        0  \n",
              "4                     2.288   33        1  "
            ]
          },
          "execution_count": 43,
          "metadata": {},
          "output_type": "execute_result"
        }
      ],
      "source": [
        "#Observing the first 5 rows\n",
        "df.head()"
      ]
    },
    {
      "cell_type": "code",
      "execution_count": 44,
      "metadata": {
        "colab": {
          "base_uri": "https://localhost:8080/",
          "height": 265
        },
        "colab_type": "code",
        "id": "hjSkUilI3vk5",
        "outputId": "c64a337d-ecaf-477a-b950-95b11cdf8f03"
      },
      "outputs": [
        {
          "data": {
            "image/png": "[encoded data removed]",
            "text/plain": [
              "<Figure size 1200x600 with 1 Axes>"
            ]
          },
          "metadata": {},
          "output_type": "display_data"
        },
        {
          "data": {
            "image/png": "[encoded data removed]",
            "text/plain": [
              "<Figure size 1200x600 with 1 Axes>"
            ]
          },
          "metadata": {},
          "output_type": "display_data"
        }
      ],
      "source": [
        "#Checking scalability \n",
        "plt.hist(df['Glucose'], bins=30)\n",
        "plt.show()"
      ]
    },
    {
      "cell_type": "code",
      "execution_count": 45,
      "metadata": {
        "colab": {
          "base_uri": "https://localhost:8080/",
          "height": 265
        },
        "colab_type": "code",
        "id": "WkjD9RA331ID",
        "outputId": "52f7cce1-7d8d-481f-8f8a-6c0cc64ea4fb"
      },
      "outputs": [
        {
          "data": {
            "image/png": "[encoded data removed]",
            "text/plain": [
              "<Figure size 640x480 with 1 Axes>"
            ]
          },
          "metadata": {},
          "output_type": "display_data"
        }
      ],
      "source": [
        "plt.hist(df['BloodPressure'], bins=30)\n",
        "plt.show()"
      ]
    },
    {
      "cell_type": "code",
      "execution_count": 46,
      "metadata": {
        "colab": {
          "base_uri": "https://localhost:8080/",
          "height": 265
        },
        "colab_type": "code",
        "id": "Wza1jvGY4AbG",
        "outputId": "4681b8f2-dc23-447b-cc1f-905a2436ff4f"
      },
      "outputs": [
        {
          "data": {
            "image/png": "[encoded data removed]",
            "text/plain": [
              "<Figure size 640x480 with 1 Axes>"
            ]
          },
          "metadata": {},
          "output_type": "display_data"
        }
      ],
      "source": [
        "glucose = [df['Glucose']]\n",
        "bdpressure = [df['BloodPressure']]\n",
        "plt.hist(glucose, alpha=0.5, label='glucose', bins=30)\n",
        "plt.hist(bdpressure, alpha=0.5, label='bdpressure', bins=30)\n",
        "plt.legend(loc='upper right')\n",
        "plt.show()"
      ]
    },
    {
      "attachments": {},
      "cell_type": "markdown",
      "metadata": {
        "colab_type": "text",
        "id": "K17AUSJ54QSh"
      },
      "source": [
        "*Apparently there is a scalability issue which is quite important for KNN algorithms mainly due to the reason that it computes the distance to the  K values in the neighborhood. "
      ]
    },
    {
      "cell_type": "code",
      "execution_count": 47,
      "metadata": {},
      "outputs": [],
      "source": [
        "def scaling_apply(X_train, X_test):\n",
        "    #Scaling\n",
        "    scaler = StandardScaler()\n",
        "    scaler.fit(X_train)\n",
        "    X_train = scaler.transform(X_train)\n",
        "    X_test = scaler.transform(X_test)\n",
        "    return X_train, X_test"
      ]
    },
    {
      "cell_type": "code",
      "execution_count": 48,
      "metadata": {},
      "outputs": [],
      "source": [
        "def preprocess(df):\n",
        "    #Preprocessing\n",
        "    #X = df.drop(\"Outcome\",axis =1) alternative\n",
        "    #y = df[\"Outcome\"]\n",
        "    X = df.iloc[:, :-1].values\n",
        "    y = df.iloc[:, 4].values\n",
        "    X_train, X_test, y_train, y_test = train_test_split(X, y, test_size=0.20)\n",
        "    if scale_check(df)==True:\n",
        "        X_train, X_test = scaling_apply(X_train, X_test)\n",
        "    return X_train, X_test, y_train, y_test"
      ]
    },
    {
      "cell_type": "code",
      "execution_count": 49,
      "metadata": {
        "colab": {},
        "colab_type": "code",
        "id": "kMS8-uO2Xfco"
      },
      "outputs": [],
      "source": [
        "X_train, X_test, y_train, y_test = preprocess(df)"
      ]
    },
    {
      "attachments": {},
      "cell_type": "markdown",
      "metadata": {
        "colab_type": "text",
        "id": "I1xLUW_H2kv0"
      },
      "source": [
        "*Beforing running KNN algorithm there is a need to bring all variables to the same scale as computation is based on Euclidean Distance. From this point of view, KNN is pretty sensitive to the scale. "
      ]
    },
    {
      "cell_type": "code",
      "execution_count": 50,
      "metadata": {
        "colab": {
          "base_uri": "https://localhost:8080/",
          "height": 68
        },
        "colab_type": "code",
        "id": "mMlkxJjnXy0S",
        "outputId": "d3357992-6f49-4fed-d32b-3c73f4c206e2"
      },
      "outputs": [
        {
          "data": {
            "text/html": [
              "<style>#sk-container-id-2 {color: black;background-color: white;}#sk-container-id-2 pre{padding: 0;}#sk-container-id-2 div.sk-toggleable {background-color: white;}#sk-container-id-2 label.sk-toggleable__label {cursor: pointer;display: block;width: 100%;margin-bottom: 0;padding: 0.3em;box-sizing: border-box;text-align: center;}#sk-container-id-2 label.sk-toggleable__label-arrow:before {content: \"▸\";float: left;margin-right: 0.25em;color: #696969;}#sk-container-id-2 label.sk-toggleable__label-arrow:hover:before {color: black;}#sk-container-id-2 div.sk-estimator:hover label.sk-toggleable__label-arrow:before {color: black;}#sk-container-id-2 div.sk-toggleable__content {max-height: 0;max-width: 0;overflow: hidden;text-align: left;background-color: #f0f8ff;}#sk-container-id-2 div.sk-toggleable__content pre {margin: 0.2em;color: black;border-radius: 0.25em;background-color: #f0f8ff;}#sk-container-id-2 input.sk-toggleable__control:checked~div.sk-toggleable__content {max-height: 200px;max-width: 100%;overflow: auto;}#sk-container-id-2 input.sk-toggleable__control:checked~label.sk-toggleable__label-arrow:before {content: \"▾\";}#sk-container-id-2 div.sk-estimator input.sk-toggleable__control:checked~label.sk-toggleable__label {background-color: #d4ebff;}#sk-container-id-2 div.sk-label input.sk-toggleable__control:checked~label.sk-toggleable__label {background-color: #d4ebff;}#sk-container-id-2 input.sk-hidden--visually {border: 0;clip: rect(1px 1px 1px 1px);clip: rect(1px, 1px, 1px, 1px);height: 1px;margin: -1px;overflow: hidden;padding: 0;position: absolute;width: 1px;}#sk-container-id-2 div.sk-estimator {font-family: monospace;background-color: #f0f8ff;border: 1px dotted black;border-radius: 0.25em;box-sizing: border-box;margin-bottom: 0.5em;}#sk-container-id-2 div.sk-estimator:hover {background-color: #d4ebff;}#sk-container-id-2 div.sk-parallel-item::after {content: \"\";width: 100%;border-bottom: 1px solid gray;flex-grow: 1;}#sk-container-id-2 div.sk-label:hover label.sk-toggleable__label {background-color: #d4ebff;}#sk-container-id-2 div.sk-serial::before {content: \"\";position: absolute;border-left: 1px solid gray;box-sizing: border-box;top: 0;bottom: 0;left: 50%;z-index: 0;}#sk-container-id-2 div.sk-serial {display: flex;flex-direction: column;align-items: center;background-color: white;padding-right: 0.2em;padding-left: 0.2em;position: relative;}#sk-container-id-2 div.sk-item {position: relative;z-index: 1;}#sk-container-id-2 div.sk-parallel {display: flex;align-items: stretch;justify-content: center;background-color: white;position: relative;}#sk-container-id-2 div.sk-item::before, #sk-container-id-2 div.sk-parallel-item::before {content: \"\";position: absolute;border-left: 1px solid gray;box-sizing: border-box;top: 0;bottom: 0;left: 50%;z-index: -1;}#sk-container-id-2 div.sk-parallel-item {display: flex;flex-direction: column;z-index: 1;position: relative;background-color: white;}#sk-container-id-2 div.sk-parallel-item:first-child::after {align-self: flex-end;width: 50%;}#sk-container-id-2 div.sk-parallel-item:last-child::after {align-self: flex-start;width: 50%;}#sk-container-id-2 div.sk-parallel-item:only-child::after {width: 0;}#sk-container-id-2 div.sk-dashed-wrapped {border: 1px dashed gray;margin: 0 0.4em 0.5em 0.4em;box-sizing: border-box;padding-bottom: 0.4em;background-color: white;}#sk-container-id-2 div.sk-label label {font-family: monospace;font-weight: bold;display: inline-block;line-height: 1.2em;}#sk-container-id-2 div.sk-label-container {text-align: center;}#sk-container-id-2 div.sk-container {/* jupyter's `normalize.less` sets `[hidden] { display: none; }` but bootstrap.min.css set `[hidden] { display: none !important; }` so we also need the `!important` here to be able to override the default hidden behavior on the sphinx rendered scikit-learn.org. See: https://github.com/scikit-learn/scikit-learn/issues/21755 */display: inline-block !important;position: relative;}#sk-container-id-2 div.sk-text-repr-fallback {display: none;}</style><div id=\"sk-container-id-2\" class=\"sk-top-container\"><div class=\"sk-text-repr-fallback\"><pre>KNeighborsClassifier()</pre><b>In a Jupyter environment, please rerun this cell to show the HTML representation or trust the notebook. <br />On GitHub, the HTML representation is unable to render, please try loading this page with nbviewer.org.</b></div><div class=\"sk-container\" hidden><div class=\"sk-item\"><div class=\"sk-estimator sk-toggleable\"><input class=\"sk-toggleable__control sk-hidden--visually\" id=\"sk-estimator-id-2\" type=\"checkbox\" checked><label for=\"sk-estimator-id-2\" class=\"sk-toggleable__label sk-toggleable__label-arrow\">KNeighborsClassifier</label><div class=\"sk-toggleable__content\"><pre>KNeighborsClassifier()</pre></div></div></div></div></div>"
            ],
            "text/plain": [
              "KNeighborsClassifier()"
            ]
          },
          "execution_count": 50,
          "metadata": {},
          "output_type": "execute_result"
        }
      ],
      "source": [
        "#Running KNN algorithm\n",
        "from sklearn.neighbors import KNeighborsClassifier\n",
        "classifier = KNeighborsClassifier(n_neighbors=5)\n",
        "classifier.fit(X_train, y_train)"
      ]
    },
    {
      "cell_type": "code",
      "execution_count": 51,
      "metadata": {
        "colab": {},
        "colab_type": "code",
        "id": "G3io3sRPstIv"
      },
      "outputs": [],
      "source": [
        "#Predicting on test dataset in order to compare with the train dataset \n",
        "y_pred = classifier.predict(X_test)"
      ]
    },
    {
      "cell_type": "code",
      "execution_count": 52,
      "metadata": {
        "colab": {
          "base_uri": "https://localhost:8080/",
          "height": 1000
        },
        "colab_type": "code",
        "id": "JwQrUo8Ys1FY",
        "outputId": "b9c1325f-c171-4db6-a6f3-a726cd3b079c"
      },
      "outputs": [
        {
          "name": "stdout",
          "output_type": "stream",
          "text": [
            "[[79  0  0 ...  0  0  0]\n",
            " [ 1  0  0 ...  0  0  0]\n",
            " [ 2  0  0 ...  0  0  0]\n",
            " ...\n",
            " [ 0  0  0 ...  0  0  0]\n",
            " [ 0  0  0 ...  0  0  0]\n",
            " [ 0  0  0 ...  0  0  0]]\n",
            "              precision    recall  f1-score   support\n",
            "\n",
            "           0       0.81      0.99      0.89        80\n",
            "          15       0.00      0.00      0.00         1\n",
            "          18       0.00      0.00      0.00         2\n",
            "          22       0.00      0.00      0.00         1\n",
            "          23       0.00      0.00      0.00         1\n",
            "          25       0.00      0.00      0.00         1\n",
            "          29       0.00      0.00      0.00         0\n",
            "          36       0.00      0.00      0.00         1\n",
            "          40       0.00      0.00      0.00         0\n",
            "          42       0.00      0.00      0.00         1\n",
            "          44       0.00      0.00      0.00         1\n",
            "          50       0.00      0.00      0.00         2\n",
            "          51       0.00      0.00      0.00         0\n",
            "          53       0.00      0.00      0.00         1\n",
            "          54       0.00      0.00      0.00         0\n",
            "          56       0.00      0.00      0.00         1\n",
            "          57       0.00      0.00      0.00         0\n",
            "          63       0.00      0.00      0.00         0\n",
            "          64       0.00      0.00      0.00         1\n",
            "          66       0.00      0.00      0.00         0\n",
            "          71       0.00      0.00      0.00         1\n",
            "          73       0.00      0.00      0.00         1\n",
            "          74       0.00      0.00      0.00         1\n",
            "          75       0.00      0.00      0.00         0\n",
            "          76       0.00      0.00      0.00         1\n",
            "          78       0.00      0.00      0.00         1\n",
            "          79       0.00      0.00      0.00         2\n",
            "          81       0.00      0.00      0.00         1\n",
            "          83       0.00      0.00      0.00         1\n",
            "          87       0.00      0.00      0.00         1\n",
            "          89       0.00      0.00      0.00         1\n",
            "          92       0.00      0.00      0.00         0\n",
            "          94       0.00      0.00      0.00         1\n",
            "          95       0.00      0.00      0.00         0\n",
            "          96       0.00      0.00      0.00         1\n",
            "         100       0.00      0.00      0.00         3\n",
            "         105       0.00      0.00      0.00         1\n",
            "         106       0.00      0.00      0.00         1\n",
            "         110       0.00      0.00      0.00         2\n",
            "         112       0.00      0.00      0.00         1\n",
            "         114       0.00      0.00      0.00         1\n",
            "         115       0.00      0.00      0.00         1\n",
            "         116       0.00      0.00      0.00         1\n",
            "         120       0.00      0.00      0.00         0\n",
            "         125       0.00      0.00      0.00         1\n",
            "         128       0.00      0.00      0.00         1\n",
            "         130       0.00      0.00      0.00         2\n",
            "         132       0.00      0.00      0.00         0\n",
            "         135       0.00      0.00      0.00         0\n",
            "         140       0.00      0.00      0.00         2\n",
            "         145       0.00      0.00      0.00         1\n",
            "         150       0.00      0.00      0.00         1\n",
            "         152       0.00      0.00      0.00         0\n",
            "         160       0.00      0.00      0.00         2\n",
            "         165       0.00      0.00      0.00         1\n",
            "         168       0.00      0.00      0.00         0\n",
            "         182       0.00      0.00      0.00         1\n",
            "         184       0.00      0.00      0.00         1\n",
            "         185       0.00      0.00      0.00         0\n",
            "         190       0.00      0.00      0.00         1\n",
            "         194       0.00      0.00      0.00         0\n",
            "         204       0.00      0.00      0.00         1\n",
            "         205       0.00      0.00      0.00         1\n",
            "         210       0.00      0.00      0.00         1\n",
            "         220       0.00      0.00      0.00         1\n",
            "         225       0.00      0.00      0.00         1\n",
            "         245       0.00      0.00      0.00         0\n",
            "         249       0.00      0.00      0.00         1\n",
            "         250       0.00      0.00      0.00         1\n",
            "         258       0.00      0.00      0.00         1\n",
            "         265       0.00      0.00      0.00         1\n",
            "         275       0.00      0.00      0.00         1\n",
            "         280       0.00      0.00      0.00         1\n",
            "         284       0.00      0.00      0.00         0\n",
            "         293       0.00      0.00      0.00         0\n",
            "         325       0.00      0.00      0.00         1\n",
            "         326       0.00      0.00      0.00         1\n",
            "         328       0.00      0.00      0.00         0\n",
            "         330       0.00      0.00      0.00         0\n",
            "         375       0.00      0.00      0.00         1\n",
            "         387       0.00      0.00      0.00         1\n",
            "         465       0.00      0.00      0.00         1\n",
            "         474       0.00      0.00      0.00         1\n",
            "         478       0.00      0.00      0.00         1\n",
            "         480       0.00      0.00      0.00         0\n",
            "         485       0.00      0.00      0.00         1\n",
            "         495       0.00      0.00      0.00         0\n",
            "         579       0.00      0.00      0.00         1\n",
            "         600       0.00      0.00      0.00         1\n",
            "         846       0.00      0.00      0.00         1\n",
            "\n",
            "    accuracy                           0.51       154\n",
            "   macro avg       0.01      0.01      0.01       154\n",
            "weighted avg       0.42      0.51      0.46       154\n",
            "\n"
          ]
        }
      ],
      "source": [
        "#Confusion matrix\n",
        "from sklearn.metrics import classification_report, confusion_matrix\n",
        "print(confusion_matrix(y_test, y_pred))\n",
        "print(classification_report(y_test, y_pred))"
      ]
    },
    {
      "cell_type": "code",
      "execution_count": 53,
      "metadata": {
        "colab": {},
        "colab_type": "code",
        "id": "hRWgGqtss5dH"
      },
      "outputs": [],
      "source": [
        "error = []\n",
        "# Calculating error for K values between 1 and 40\n",
        "for i in range(1, 40):\n",
        "    knn = KNeighborsClassifier(n_neighbors=i)\n",
        "    knn.fit(X_train, y_train)\n",
        "    pred_i = knn.predict(X_test)\n",
        "    error.append(np.mean(pred_i != y_test))"
      ]
    },
    {
      "cell_type": "code",
      "execution_count": 55,
      "metadata": {
        "colab": {
          "base_uri": "https://localhost:8080/",
          "height": 421
        },
        "colab_type": "code",
        "id": "cw7DhheYtFRy",
        "outputId": "5cea331b-3c2f-44a1-fdf0-4449d0fd824c"
      },
      "outputs": [
        {
          "data": {
            "text/plain": [
              "Text(0, 0.5, 'Mean Error')"
            ]
          },
          "execution_count": 55,
          "metadata": {},
          "output_type": "execute_result"
        }
      ],
      "source": [
        "#Plotting mean error against K value\n",
        "plt.figure(figsize=(12, 6))\n",
        "plt.plot(range(1, 40), error, color='red', linestyle='dashed', marker='o',\n",
        "         markerfacecolor='blue', markersize=10)\n",
        "plt.title('Error Rate K Value')\n",
        "plt.xlabel('K Value')\n",
        "plt.ylabel('Mean Error')"
      ]
    },
    {
      "cell_type": "code",
      "execution_count": null,
      "metadata": {
        "colab": {
          "base_uri": "https://localhost:8080/",
          "height": 153
        },
        "colab_type": "code",
        "id": "9_WQkg1ZtJXi",
        "outputId": "fc30c69a-290c-4c08-887f-d77d4957023e"
      },
      "outputs": [],
      "source": [
        "#Calculating mean accuracy, standarnd deviation accuracy \n",
        "#Checking accuracy results for different number of K values\n",
        "Ks = 40\n",
        "mean_acc = np.zeros((Ks-1))\n",
        "std_acc = np.zeros((Ks-1))\n",
        "ConfustionMx = [];\n",
        "for n in range(1,Ks):\n",
        "    \n",
        "    #Train Model and Predict  \n",
        "    neigh = KNeighborsClassifier(n_neighbors = n).fit(X_train,y_train)\n",
        "    yhat=neigh.predict(X_test)\n",
        "    mean_acc[n-1] = metrics.accuracy_score(y_test, yhat)\n",
        "\n",
        "    std_acc[n-1]=np.std(yhat==y_test)/np.sqrt(yhat.shape[0])\n",
        "mean_acc"
      ]
    },
    {
      "cell_type": "code",
      "execution_count": null,
      "metadata": {
        "colab": {
          "base_uri": "https://localhost:8080/",
          "height": 297
        },
        "colab_type": "code",
        "id": "FdsDcTjNtdjM",
        "outputId": "eb74e272-a3be-4f49-e198-5dd8a328eff0"
      },
      "outputs": [],
      "source": [
        "#Plotting accuracy against number of K neighbors \n",
        "plt.plot(range(1,Ks),mean_acc,'g')\n",
        "plt.fill_between(range(1,Ks),mean_acc - 1 * std_acc,mean_acc + 1 * std_acc, alpha=0.10)\n",
        "plt.legend(('Accuracy ', '+/- 3xstd'))\n",
        "plt.ylabel('Accuracy ')\n",
        "plt.xlabel('Number of Neighbors (K)')\n",
        "plt.tight_layout()\n",
        "plt.show()"
      ]
    },
    {
      "cell_type": "code",
      "execution_count": null,
      "metadata": {
        "colab": {
          "base_uri": "https://localhost:8080/",
          "height": 34
        },
        "colab_type": "code",
        "id": "pwNJshgPthg3",
        "outputId": "c276bbe6-d6b3-4690-efef-7e75299cd5f6"
      },
      "outputs": [],
      "source": [
        "#Checking the k value for which the model gets the highest accuracy \n",
        "print( \"The best accuracy was with\", mean_acc.max(), \"with k=\", mean_acc.argmax()+1) "
      ]
    },
    {
      "attachments": {},
      "cell_type": "markdown",
      "metadata": {
        "colab_type": "text",
        "id": "1B38CDW17dNw"
      },
      "source": [
        "*After solving scalability issue KNN algorithm was executed on train and test set. After making confusion matrix model yielded lower accuracy result. Therefore, mean error was calculated. According to the plot which shows mean error against number of neighbors one can visually observe that the number of neighbors between 15 and 20 results in the lower mean error. Subsequently, I tried to check accuracy results for different number of neighbors and plotted accuracy against numbers of neighbors. In the end, I checked the K value for which the model gets the highest accuracy. K value at 18 gets the best accuracy. In general, accuracy results are below 53%. If we compare n_neighbors=5 and n_neighbors=18 we will see that accuracy improves only 2%. Therefore, one can claim these results are not related to KNN algorithm. In order to improve accuracy classification models can be applied as this dataset is related to diabetics and it has 2 binary outcomes."
      ]
    }
  ],
  "metadata": {
    "colab": {
      "collapsed_sections": [],
      "name": "KNN",
      "provenance": []
    },
    "kernelspec": {
      "display_name": "Python 3",
      "name": "python3"
    },
    "language_info": {
      "codemirror_mode": {
        "name": "ipython",
        "version": 3
      },
      "file_extension": ".py",
      "mimetype": "text/x-python",
      "name": "python",
      "nbconvert_exporter": "python",
      "pygments_lexer": "ipython3",
      "version": "3.10.9"
    }
  },
  "nbformat": 4,
  "nbformat_minor": 0
}
